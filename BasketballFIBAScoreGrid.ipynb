{
 "cells": [
  {
   "cell_type": "markdown",
   "metadata": {},
   "source": [
    "### Get Grid from picture"
   ]
  },
  {
   "cell_type": "markdown",
   "metadata": {},
   "source": [
    "Current state of project\n",
    "- adjust perspective_transform that if image is slightly turned, it doesnt crash\n",
    "- find corner robust\n",
    "- crop images in right order for other pics!!\n"
   ]
  },
  {
   "cell_type": "code",
   "execution_count": 6,
   "metadata": {},
   "outputs": [
    {
     "data": {
      "image/png": "[encoded data removed]",
      "text/plain": [
       "<Figure size 432x288 with 1 Axes>"
      ]
     },
     "metadata": {
      "needs_background": "light"
     },
     "output_type": "display_data"
    },
    {
     "data": {
      "image/png": "[encoded data removed]",
      "text/plain": [
       "<Figure size 432x288 with 1 Axes>"
      ]
     },
     "metadata": {
      "needs_background": "light"
     },
     "output_type": "display_data"
    }
   ],
   "source": [
    "import cv2\n",
    "import numpy as np\n",
    "from matplotlib import pyplot as plt\n",
    "import pandas as pd\n",
    "\n",
    "def processing(img, skip_dilate=False):\n",
    "    img = cv2.cvtColor(img, cv2.COLOR_BGR2GRAY)\n",
    "    process = cv2.GaussianBlur(img.copy(), (9, 9), 0)\n",
    "    process = cv2.adaptiveThreshold(process, 255, cv2.ADAPTIVE_THRESH_GAUSSIAN_C, cv2.THRESH_BINARY, 11, 2)\n",
    "    process = cv2.bitwise_not(process, process)\n",
    "    return process\n",
    "\n",
    "def _resize(img, target_img_height):\n",
    "    raw_h, raw_w = img.shape[:2]\n",
    "    target_w = (raw_w * target_img_height) / raw_h\n",
    "    img = cv2.resize(img, (int(target_w), int(target_img_height)))\n",
    "    return img\n",
    "\n",
    "def find_corners(img):\n",
    "    ext_contours = cv2.findContours(img, cv2.RETR_EXTERNAL, cv2.CHAIN_APPROX_SIMPLE)\n",
    "    ext_contours = ext_contours[0] if len(ext_contours) == 2 else ext_contours[1]\n",
    "    ext_contours = sorted(ext_contours, key=cv2.contourArea, reverse=True)\n",
    "    for c in ext_contours:\n",
    "        peri = cv2.arcLength(c, True)\n",
    "        approx = cv2.approxPolyDP(c, 0.015 * peri, True)\n",
    "        if len(approx) == 4:\n",
    "            return approx\n",
    "\n",
    "def order_corner_points(corners):\n",
    "    corners = [(corner[0][0], corner[0][1]) for corner in corners]\n",
    "    top_r, top_l, bottom_l, bottom_r = corners[0], corners[1], corners[2], corners[3]\n",
    "    return top_l, top_r, bottom_r, bottom_l\n",
    "\n",
    "\n",
    "# Crop the image\n",
    "def perspective_transform(image, corners):\n",
    "    ordered_corners = order_corner_points(corners)\n",
    "    top_l, top_r, bottom_r, bottom_l = ordered_corners\n",
    "    width_A = np.sqrt(((bottom_r[0] - bottom_l[0]) ** 2) + ((bottom_r[1] - bottom_l[1]) ** 2))\n",
    "    width_B = np.sqrt(((top_r[0] - top_l[0]) ** 2) + ((top_r[1] - top_l[1]) ** 2))\n",
    "    width = max(int(width_A), int(width_B))\n",
    "\n",
    "    height_A = np.sqrt(((top_r[0] - bottom_r[0]) ** 2) + ((top_r[1] - bottom_r[1]) ** 2))\n",
    "    height_B = np.sqrt(((top_l[0] - bottom_l[0]) ** 2) + ((top_l[1] - bottom_l[1]) ** 2))\n",
    "    height = max(int(height_A), int(height_B))\n",
    "\n",
    "    dimensions = np.array([[0, 0], [width - 1, 0], [width - 1, height - 1],\n",
    "                           [0, height - 1]], dtype=\"float32\")\n",
    "\n",
    "    ordered_corners = np.array(ordered_corners, dtype=\"float32\")\n",
    "    grid = cv2.getPerspectiveTransform(ordered_corners, dimensions)\n",
    "    # Return the transformed image\n",
    "    return cv2.warpPerspective(image, grid, (width, height))\n",
    "\n",
    "def morph_transform(image): \n",
    "    gray_scale=cv2.cvtColor(image,cv2.COLOR_BGR2GRAY)\n",
    "    th1,img_bin = cv2.threshold(gray_scale,150,225,cv2.THRESH_BINARY)\n",
    "    lineWidth = 1\n",
    "    lineMinWidth = 35\n",
    "    kernal1 = np.ones((lineWidth,lineWidth), np.uint8)\n",
    "    kernal1h = np.ones((1,lineWidth), np.uint8)\n",
    "    kernal1v = np.ones((lineWidth,1), np.uint8)\n",
    "\n",
    "    kernal6 = np.ones((lineMinWidth,lineMinWidth), np.uint8)\n",
    "    kernal6h = np.ones((1,lineMinWidth), np.uint8)\n",
    "    kernal6v = np.ones((lineMinWidth,1), np.uint8)\n",
    "    img_bin_h = cv2.morphologyEx(~img_bin, cv2.MORPH_CLOSE, kernal1h) # bridge small gap in horizonntal lines\n",
    "    img_bin_h = cv2.morphologyEx(img_bin_h, cv2.MORPH_OPEN, kernal6h) # kep ony horiz lines by eroding everything else in hor direction\n",
    "    img_bin_v = cv2.morphologyEx(~img_bin, cv2.MORPH_CLOSE, kernal1v)  # bridge small gap in vert lines\n",
    "    img_bin_v = cv2.morphologyEx(img_bin_v, cv2.MORPH_OPEN, kernal6v)# kep ony vert lines by eroding everything else in vert direction\n",
    "    def fix(img):\n",
    "        img[img>127]=255\n",
    "        img[img<127]=0\n",
    "        return img\n",
    "\n",
    "    img_bin_final = fix(fix(img_bin_h)|fix(img_bin_v))\n",
    "    finalKernel = np.ones((5,5), np.uint8)\n",
    "    img_bin_final=cv2.dilate(img_bin_final,finalKernel,iterations=1)\n",
    "    return img_bin_final\n",
    "\n",
    "def split_image_in_two_parts(image):\n",
    "    img_bin_final =  morph_transform(image)\n",
    "    ret, labels, stats,centroids = cv2.connectedComponentsWithStats(~img_bin_final, connectivity=8, ltype=cv2.CV_32S)\n",
    "    for x,y,w,h,area in stats[2:]:\n",
    "        if(h > 0.6*image.shape[0]):\n",
    "            scoreGrid_Extract =image[y:y+h, x+w:image.shape[1]]\n",
    "            player_Name_Grid = image[y:y+h, 0:x]  \n",
    "    return scoreGrid_Extract,player_Name_Grid\n",
    "\n",
    "def crop_scores_from_grid(image):\n",
    "    img_bin_final =  morph_transform(image)\n",
    "    ret, labels, stats,centroids = cv2.connectedComponentsWithStats(~img_bin_final, connectivity=8, ltype=cv2.CV_32S)\n",
    "    idx = 1\n",
    "    id_img = 1\n",
    "    my_dict = {}\n",
    "    for x,y,w,h,area in stats[2:]:\n",
    "        if(w > 0.01*image.shape[1]  and idx > 8):\n",
    "            scoreGrid_Extract =image[y:y+h+5, x-5:x+w+5]\n",
    "            scoreGrid_Extract = _resize(scoreGrid_Extract,27)\n",
    "            cv2.imwrite(\"Test\"+str(id_img)+\"Pic.png\",scoreGrid_Extract )\n",
    "            my_dict[id_img] = scoreGrid_Extract\n",
    "            id_img +=1\n",
    "        idx += 1\n",
    "    plt.imshow(my_dict[18])\n",
    "    plt.show()\n",
    "    plt.imshow(my_dict[17])\n",
    "    plt.show()\n",
    "    return my_dict\n",
    "\n",
    "def crop_names_from_grid(image):\n",
    "    img_bin_final =  morph_transform(image)\n",
    "    ret, labels, stats,centroids = cv2.connectedComponentsWithStats(~img_bin_final, connectivity=8, ltype=cv2.CV_32S)\n",
    "    idx = 1\n",
    "    id_img = 1\n",
    "    my_dict = {}\n",
    "    for x,y,w,h,area in stats[2:]:\n",
    "        if(idx > 8):\n",
    "            scoreGrid_Extract =image[y:y+h+5, x-5:x+w+5]\n",
    "            my_dict[id_img] = scoreGrid_Extract\n",
    "            id_img +=1\n",
    "        idx += 1\n",
    "    return my_dict\n",
    "\n",
    "def extract():\n",
    "    img = cv2.imread('Basketball_Score_Pic.jpg')\n",
    "    processed_grid = processing(img)\n",
    "    grid = find_corners(processed_grid)\n",
    "    transformed = perspective_transform(img, grid)\n",
    "    cropped_score_grid , cropped_player_name_grid = split_image_in_two_parts(transformed)\n",
    "    dic_images = crop_scores_from_grid(cropped_score_grid)\n",
    "    #dic_names = crop_names_from_grid(cropped_player_name_grid)\n",
    "extract()"
   ]
  },
  {
   "cell_type": "code",
   "execution_count": null,
   "metadata": {},
   "outputs": [],
   "source": []
  }
 ],
 "metadata": {
  "kernelspec": {
   "display_name": "Python 3",
   "language": "python",
   "name": "python3"
  },
  "language_info": {
   "codemirror_mode": {
    "name": "ipython",
    "version": 3
   },
   "file_extension": ".py",
   "mimetype": "text/x-python",
   "name": "python",
   "nbconvert_exporter": "python",
   "pygments_lexer": "ipython3",
   "version": "3.7.3"
  }
 },
 "nbformat": 4,
 "nbformat_minor": 2
}
