{
 "cells": [
  {
   "cell_type": "code",
   "execution_count": 26,
   "metadata": {},
   "outputs": [],
   "source": [
    "import cv2\n",
    "import numpy as np\n",
    "from matplotlib import pyplot as plt"
   ]
  },
  {
   "cell_type": "code",
   "execution_count": 32,
   "metadata": {},
   "outputs": [],
   "source": [
    "image=cv2.imread(\"Basketball1.jpg\")"
   ]
  },
  {
   "cell_type": "code",
   "execution_count": 34,
   "metadata": {},
   "outputs": [],
   "source": [
    "gray = cv2.cvtColor(image, cv2.COLOR_BGR2GRAY)\n",
    "blur = cv2.GaussianBlur(gray, (5,5), 0)\n",
    "thresh = cv2.adaptiveThreshold(blur,  255, 1, 1, 11, 2)\n",
    "contours, hierarchy = cv2.findContours(thresh, cv2.RETR_TREE, cv2.CHAIN_APPROX_SIMPLE)\n",
    "\n",
    "max_area = 0\n",
    "c = 0\n",
    "for i in contours:\n",
    "        area = cv2.contourArea(i)\n",
    "        if area > 1000:\n",
    "                if area > max_area:\n",
    "                    max_area = area\n",
    "                    best_cnt = i\n",
    "                    image = cv2.drawContours(image, contours, c, (0, 255, 0), 3)\n",
    "        c+=1\n",
    "\n",
    "mask = np.zeros((gray.shape),np.uint8)\n",
    "cv2.drawContours(mask,[best_cnt],0,255,-1)\n",
    "cv2.drawContours(mask,[best_cnt],0,0,2)\n",
    "\n",
    "out = np.zeros_like(gray)\n",
    "out[mask == 255] = gray[mask == 255]\n",
    "blur = cv2.GaussianBlur(out, (5,5), 0)\n",
    "contours, hierarchy = cv2.findContours(thresh, cv2.RETR_TREE, cv2.CHAIN_APPROX_SIMPLE)\n",
    "\n",
    "c = 0\n",
    "for i in contours:\n",
    "        area = cv2.contourArea(i)\n",
    "        if area > 1000/2:\n",
    "            cv2.drawContours(image, contours, c, (0, 255, 0), 3)\n",
    "        c+=1\n",
    "\n",
    "\n",
    "cv2.imshow(\"Final Image\", image)\n",
    "cv2.waitKey(0)\n",
    "cv2.destroyAllWindows()"
   ]
  },
  {
   "cell_type": "code",
   "execution_count": 35,
   "metadata": {},
   "outputs": [],
   "source": [
    "gray = cv2.cvtColor(image, cv2.COLOR_BGR2GRAY)\n",
    "th1,img_bin = cv2.threshold(gray,100,255,cv2.THRESH_BINARY)\n",
    "\n",
    "cv2.imshow(\"gray\", img_bin)\n",
    "cv2.waitKey(0)\n",
    "cv2.destroyAllWindows()"
   ]
  },
  {
   "cell_type": "code",
   "execution_count": null,
   "metadata": {},
   "outputs": [],
   "source": []
  }
 ],
 "metadata": {
  "kernelspec": {
   "display_name": "Python 3",
   "language": "python",
   "name": "python3"
  },
  "language_info": {
   "codemirror_mode": {
    "name": "ipython",
    "version": 3
   },
   "file_extension": ".py",
   "mimetype": "text/x-python",
   "name": "python",
   "nbconvert_exporter": "python",
   "pygments_lexer": "ipython3",
   "version": "3.7.3"
  }
 },
 "nbformat": 4,
 "nbformat_minor": 2
}
