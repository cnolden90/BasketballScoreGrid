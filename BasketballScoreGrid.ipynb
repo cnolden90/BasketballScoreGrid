{
 "cells": [
  {
   "cell_type": "code",
   "execution_count": 2,
   "metadata": {},
   "outputs": [
    {
     "name": "stdout",
     "output_type": "stream",
     "text": [
      "Collecting opencv-python\n",
      "  Downloading https://files.pythonhosted.org/packages/70/a8/e52a82936be6d5696fb06c78450707c26dc13df91bb6bf49583bb9abbaa0/opencv_python-4.5.1.48-cp37-cp37m-win_amd64.whl (34.9MB)\n",
      "Requirement already satisfied: numpy>=1.14.5 in c:\\users\\noldec\\appdata\\local\\continuum\\anaconda3\\lib\\site-packages (from opencv-python) (1.16.2)\n",
      "Installing collected packages: opencv-python\n",
      "Successfully installed opencv-python-4.5.1.48\n"
     ]
    }
   ],
   "source": [
    "!pip install opencv-python"
   ]
  },
  {
   "cell_type": "code",
   "execution_count": 1,
   "metadata": {},
   "outputs": [],
   "source": [
    "import cv2\n",
    "import numpy as np\n",
    "from matplotlib import pyplot as plt"
   ]
  },
  {
   "cell_type": "code",
   "execution_count": 8,
   "metadata": {},
   "outputs": [],
   "source": [
    "image=cv2.imread(\"Basketball1.jpg\")\n",
    "#cv2.imshow('test',image)\n",
    "#cv2.waitKey(0)\n",
    "#cv2.destroyAllWindows()"
   ]
  },
  {
   "cell_type": "code",
   "execution_count": 27,
   "metadata": {},
   "outputs": [],
   "source": [
    "gray = cv2.cvtColor(image, cv2.COLOR_BGR2GRAY)\n",
    "th1,img_bin = cv2.threshold(gray,100,255,cv2.THRESH_BINARY)\n",
    "\n",
    "cv2.imshow(\"gray\", img_bin)\n",
    "cv2.waitKey(0)\n",
    "cv2.destroyAllWindows()"
   ]
  },
  {
   "cell_type": "code",
   "execution_count": 18,
   "metadata": {},
   "outputs": [],
   "source": [
    "lineWidth = 7\n",
    "lineMinWidth = 55\n",
    "kernal1 = np.ones((lineWidth,lineWidth), np.uint8)\n",
    "kernal1h = np.ones((1,lineWidth), np.uint8)\n",
    "kernal1v = np.ones((lineWidth,1), np.uint8)\n",
    "\n",
    "kernal6 = np.ones((lineMinWidth,lineMinWidth), np.uint8)\n",
    "kernal6h = np.ones((1,lineMinWidth), np.uint8)\n",
    "kernal6v = np.ones((lineMinWidth,1), np.uint8)\n",
    "k\n"
   ]
  },
  {
   "cell_type": "code",
   "execution_count": 21,
   "metadata": {},
   "outputs": [],
   "source": [
    "img_bin_h = cv2.morphologyEx(~img_bin, cv2.MORPH_CLOSE, kernal1h) # bridge small gap in horizonntal lines\n",
    "img_bin_h = cv2.morphologyEx(img_bin_h, cv2.MORPH_OPEN, kernal6h) # kep ony horiz lines by eroding everything else in hor direction"
   ]
  },
  {
   "cell_type": "code",
   "execution_count": 22,
   "metadata": {},
   "outputs": [],
   "source": [
    "## detect vert lines\n",
    "img_bin_v = cv2.morphologyEx(~img_bin, cv2.MORPH_CLOSE, kernal1v)  # bridge small gap in vert lines\n",
    "img_bin_v = cv2.morphologyEx(img_bin_v, cv2.MORPH_OPEN, kernal6v)# kep ony vert lines by eroding everything else in vert direction"
   ]
  },
  {
   "cell_type": "code",
   "execution_count": 23,
   "metadata": {},
   "outputs": [],
   "source": [
    "### function to fix image as binary\n",
    "def fix(img):\n",
    "    img[img>127]=255\n",
    "    img[img<127]=0\n",
    "    return img\n",
    "\n",
    "img_bin_final = fix(fix(img_bin_h)|fix(img_bin_v))\n",
    "\n",
    "finalKernel = np.ones((5,5), np.uint8)\n",
    "img_bin_final=cv2.dilate(img_bin_final,finalKernel,iterations=1)"
   ]
  },
  {
   "cell_type": "code",
   "execution_count": 24,
   "metadata": {},
   "outputs": [],
   "source": [
    "ret, labels, stats,centroids = cv2.connectedComponentsWithStats(~img_bin_final, connectivity=8, ltype=cv2.CV_32S)\n",
    "\n",
    "### skipping first two stats as background\n",
    "for x,y,w,h,area in stats[2:]:\n",
    "    cv2.rectangle(image,(x,y),(x+w,y+h),(0,255,0),2)"
   ]
  },
  {
   "cell_type": "code",
   "execution_count": 25,
   "metadata": {},
   "outputs": [],
   "source": [
    "image=cv2.imread(\"Basketball1.jpg\")\n",
    "\n",
    "ret, Thresh = cv2.threshold(image2, 100, 255, cv2.THRESH_BINARY)\n",
    "kernel = np.ones((3, 3), dtype=np.uint8)\n",
    "Thresh = cv2.dilate(Thresh, kernel, iterations=2)\n",
    "Thresh = cv2.erode(Thresh, kernel, iterations=2)\n",
    "\n",
    "#gray = cv2.cvtColor(image, cv2.COLOR_BGR2GRAY)\n",
    "#blur = cv2.GaussianBlur(gray, (5,5), 0)\n",
    "#thresh = cv2.adaptiveThreshold(blur,  255, 1, 1, 11, 2)\n",
    "contours, hierarchy = cv2.findContours(Thresh, cv2.RETR_TREE, cv2.CHAIN_APPROX_SIMPLE)\n",
    "\n",
    "max_area = 0\n",
    "c = 0\n",
    "for i in contours:\n",
    "        area = cv2.contourArea(i)\n",
    "        if area > 1000:\n",
    "                if area > max_area:\n",
    "                    max_area = area\n",
    "                    best_cnt = i\n",
    "                    image = cv2.drawContours(image, contours, c, (0, 255, 0), 3)\n",
    "        c+=1\n",
    "\n",
    "mask = np.zeros((gray.shape),np.uint8)\n",
    "cv2.drawContours(mask,[best_cnt],0,255,-1)\n",
    "cv2.drawContours(mask,[best_cnt],0,0,2)\n",
    "\n",
    "out = np.zeros_like(gray)\n",
    "out[mask == 255] = gray[mask == 255]\n",
    "blur = cv2.GaussianBlur(out, (5,5), 0)\n",
    "\n",
    "\n",
    "ret, Thresh = cv2.threshold(image2, 100, 100, cv2.THRESH_BINARY)\n",
    "kernel = np.ones((3, 3), dtype=np.uint8)\n",
    "Thresh = cv2.dilate(Thresh, kernel, iterations=2)\n",
    "Thresh = cv2.erode(Thresh, kernel, iterations=2)\n",
    "\n",
    "\n",
    "contours, hierarchy = cv2.findContours(Thresh, cv2.RETR_TREE, cv2.CHAIN_APPROX_SIMPLE)\n",
    "\n",
    "c = 0\n",
    "for i in contours:\n",
    "        area = cv2.contourArea(i)\n",
    "        if area > 1000/2:\n",
    "            cv2.drawContours(image, contours, c, (0, 255, 0), 3)\n",
    "        c+=1\n",
    "\n",
    "\n",
    "cv2.imshow(\"Final Image\", image)\n",
    "cv2.waitKey(0)\n",
    "cv2.destroyAllWindows()"
   ]
  },
  {
   "cell_type": "code",
   "execution_count": 11,
   "metadata": {},
   "outputs": [
    {
     "ename": "AttributeError",
     "evalue": "'list' object has no attribute 'shape'",
     "output_type": "error",
     "traceback": [
      "\u001b[1;31m---------------------------------------------------------------------------\u001b[0m",
      "\u001b[1;31mAttributeError\u001b[0m                            Traceback (most recent call last)",
      "\u001b[1;32m<ipython-input-11-0ee8afdcfd16>\u001b[0m in \u001b[0;36m<module>\u001b[1;34m\u001b[0m\n\u001b[0;32m     39\u001b[0m \u001b[0mBoxesIndices\u001b[0m \u001b[1;33m=\u001b[0m \u001b[1;33m[\u001b[0m\u001b[0mi\u001b[0m \u001b[1;32mfor\u001b[0m \u001b[0mi\u001b[0m \u001b[1;32min\u001b[0m \u001b[0mrange\u001b[0m\u001b[1;33m(\u001b[0m\u001b[0mlen\u001b[0m\u001b[1;33m(\u001b[0m\u001b[0mContours\u001b[0m\u001b[1;33m)\u001b[0m\u001b[1;33m)\u001b[0m \u001b[1;32mif\u001b[0m \u001b[0mRatios\u001b[0m\u001b[1;33m[\u001b[0m\u001b[0mi\u001b[0m\u001b[1;33m]\u001b[0m \u001b[1;33m>=\u001b[0m \u001b[1;36m0.99\u001b[0m \u001b[1;32mand\u001b[0m \u001b[0mAreas\u001b[0m\u001b[1;33m[\u001b[0m\u001b[0mi\u001b[0m\u001b[1;33m]\u001b[0m \u001b[1;33m>\u001b[0m \u001b[1;36m3600\u001b[0m\u001b[1;33m]\u001b[0m\u001b[1;33m\u001b[0m\u001b[1;33m\u001b[0m\u001b[0m\n\u001b[0;32m     40\u001b[0m \u001b[0mFinalBoxes\u001b[0m \u001b[1;33m=\u001b[0m \u001b[1;33m[\u001b[0m\u001b[0mRects\u001b[0m\u001b[1;33m[\u001b[0m\u001b[0mi\u001b[0m\u001b[1;33m]\u001b[0m \u001b[1;32mfor\u001b[0m \u001b[0mi\u001b[0m \u001b[1;32min\u001b[0m \u001b[0mBoxesIndices\u001b[0m \u001b[1;32mif\u001b[0m \u001b[0mHierarchy\u001b[0m\u001b[1;33m[\u001b[0m\u001b[1;36m0\u001b[0m\u001b[1;33m]\u001b[0m\u001b[1;33m[\u001b[0m\u001b[0mi\u001b[0m\u001b[1;33m]\u001b[0m\u001b[1;33m[\u001b[0m\u001b[1;36m2\u001b[0m\u001b[1;33m]\u001b[0m \u001b[1;33m==\u001b[0m \u001b[1;33m-\u001b[0m\u001b[1;36m1\u001b[0m \u001b[1;32mor\u001b[0m \u001b[0mBoxesIndices\u001b[0m\u001b[1;33m.\u001b[0m\u001b[0mcount\u001b[0m\u001b[1;33m(\u001b[0m\u001b[0mHierarchy\u001b[0m\u001b[1;33m[\u001b[0m\u001b[1;36m0\u001b[0m\u001b[1;33m]\u001b[0m\u001b[1;33m[\u001b[0m\u001b[0mi\u001b[0m\u001b[1;33m]\u001b[0m\u001b[1;33m[\u001b[0m\u001b[1;36m2\u001b[0m\u001b[1;33m]\u001b[0m\u001b[1;33m)\u001b[0m \u001b[1;33m==\u001b[0m \u001b[1;36m0\u001b[0m\u001b[1;33m]\u001b[0m\u001b[1;33m\u001b[0m\u001b[1;33m\u001b[0m\u001b[0m\n\u001b[1;32m---> 41\u001b[1;33m \u001b[0mprint\u001b[0m\u001b[1;33m(\u001b[0m\u001b[0mFinalBoxes\u001b[0m\u001b[1;33m.\u001b[0m\u001b[0mshape\u001b[0m\u001b[1;33m)\u001b[0m\u001b[1;33m\u001b[0m\u001b[1;33m\u001b[0m\u001b[0m\n\u001b[0m",
      "\u001b[1;31mAttributeError\u001b[0m: 'list' object has no attribute 'shape'"
     ]
    }
   ],
   "source": [
    "import cv2\n",
    "import numpy as np\n",
    "from matplotlib import pyplot as plt\n",
    "image2=cv2.imread(\"Basketball1.jpg\",0)\n",
    "# Reading the image in grayscale and thresholding it\n",
    "#gray = cv2.cvtColor(image2, cv2.COLOR_BGR2GRAY)\n",
    "#thresh = cv2.adaptiveThreshold(blur,  255, 1, 1, 11, 2)\n",
    "\n",
    "\n",
    "ret, Thresh = cv2.threshold(image2, 100, 255, cv2.THRESH_BINARY)\n",
    "kernel = np.ones((3, 3), dtype=np.uint8)\n",
    "Thresh = cv2.dilate(Thresh, kernel, iterations=2)\n",
    "Thresh = cv2.erode(Thresh, kernel, iterations=2)\n",
    "\n",
    "Contours, Hierarchy = cv2.findContours(Thresh, cv2.RETR_TREE, cv2.CHAIN_APPROX_NONE)\n",
    "Areas = []\n",
    "Rects = []\n",
    "Ratios = []\n",
    "for Contour in Contours:\n",
    "    # Getting bounding rectangle\n",
    "    Rect = cv2.boundingRect(Contour)\n",
    "\n",
    "    # Drawing contour on new image and finding number of white pixels for contour area\n",
    "    C_Image = np.zeros(Thresh.shape, dtype=np.uint8)\n",
    "    cv2.drawContours(C_Image, [Contour], -1, 255, -1)\n",
    "    ContourArea = np.sum(C_Image == 255)\n",
    "\n",
    "    # Area of the bounding rectangle\n",
    "    Rect_Area = Rect[2]*Rect[3]\n",
    "    \n",
    "    # Calculating ratio as explained above\n",
    "    Ratio = ContourArea / Rect_Area\n",
    "   \n",
    "    # Storing data\n",
    "    Areas.append(ContourArea)\n",
    "    Rects.append(Rect)\n",
    "    Ratios.append(Ratio)\n",
    "    \n",
    "BoxesIndices = [i for i in range(len(Contours)) if Ratios[i] >= 0.99 and Areas[i] > 3600]\n",
    "FinalBoxes = [Rects[i] for i in BoxesIndices if Hierarchy[0][i][2] == -1 or BoxesIndices.count(Hierarchy[0][i][2]) == 0]"
   ]
  },
  {
   "cell_type": "code",
   "execution_count": 6,
   "metadata": {},
   "outputs": [
    {
     "data": {
      "text/plain": [
       "[(121, 941, 198, 22)]"
      ]
     },
     "execution_count": 6,
     "metadata": {},
     "output_type": "execute_result"
    }
   ],
   "source": [
    "FinalBoxes"
   ]
  },
  {
   "cell_type": "code",
   "execution_count": null,
   "metadata": {},
   "outputs": [],
   "source": []
  },
  {
   "cell_type": "code",
   "execution_count": null,
   "metadata": {},
   "outputs": [],
   "source": []
  }
 ],
 "metadata": {
  "kernelspec": {
   "display_name": "Python 3",
   "language": "python",
   "name": "python3"
  },
  "language_info": {
   "codemirror_mode": {
    "name": "ipython",
    "version": 3
   },
   "file_extension": ".py",
   "mimetype": "text/x-python",
   "name": "python",
   "nbconvert_exporter": "python",
   "pygments_lexer": "ipython3",
   "version": "3.7.3"
  }
 },
 "nbformat": 4,
 "nbformat_minor": 2
}
